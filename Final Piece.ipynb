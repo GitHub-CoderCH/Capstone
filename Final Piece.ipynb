{
    "cells": [
        {
            "cell_type": "code",
            "execution_count": 13,
            "metadata": {},
            "outputs": [
                {
                    "name": "stdout",
                    "output_type": "stream",
                    "text": "Requirement already satisfied: bs4 in /opt/conda/envs/Python-3.7-main/lib/python3.7/site-packages (0.0.1)\nRequirement already satisfied: beautifulsoup4 in /opt/conda/envs/Python-3.7-main/lib/python3.7/site-packages (from bs4) (4.9.3)\nRequirement already satisfied: soupsieve>1.2 in /opt/conda/envs/Python-3.7-main/lib/python3.7/site-packages (from beautifulsoup4->bs4) (2.0.1)\nCollecting package metadata (current_repodata.json): done\nSolving environment: done\n\n# All requested packages already installed.\n\nLibraries imported.\n"
                }
            ],
            "source": "import random # library for random number generation\nimport numpy as np # library for vectorized computation\nimport pandas as pd # library to process data as dataframes\n\nimport matplotlib.pyplot as plt # plotting library\n# backend for rendering plots within the browser\n%matplotlib inline \n\nfrom sklearn.cluster import KMeans \n#from sklearn.datasets.samples_generator import make_blobs\n\n!pip install bs4\nfrom bs4 import BeautifulSoup\nimport requests\n\nfrom geopy.geocoders import Nominatim \nimport requests\n! conda install -c conda-forge folium\n#import folium\nimport matplotlib.cm as cm\nimport matplotlib.colors as colors\nfrom collections import OrderedDict\nimport matplotlib as mpl\n\nfrom pandas.io.json import json_normalize\nimport folium\n\nimport json\n\nprint('Libraries imported.')"
        },
        {
            "cell_type": "code",
            "execution_count": 9,
            "metadata": {},
            "outputs": [],
            "source": "#Foursquare Info\nCLIENT_ID = 'ABC' # your Foursquare ID\nCLIENT_SECRET = 'ABC' # your Foursquare Secret\nVERSION = '20210615'\nLimit = 300\n\n#other search parameters\ncity = 'Z\u00fcrich'\n\n\n#funtion to search for a query near a city, returns json file\ndef SearchVenues(query):\n    \n    search_results=[]\n    for searchtopic in zip(query):\n        url = 'https://api.foursquare.com/v2/venues/explore?&client_id={}&client_secret={}&v={}&near={}&limit={}&query={}'.format(\n            CLIENT_ID, \n            CLIENT_SECRET, \n            VERSION,\n            city, \n            Limit,\n            query)\n        results = requests.get(url).json()['response']['groups'][0]['items']\n    \n        search_results.append([(\n            v['venue']['name'],\n            v['venue']['location']['lat'],\n            v['venue']['location']['lng']) for v in results])\n    \n        return (search_results)"
        },
        {
            "cell_type": "code",
            "execution_count": 10,
            "metadata": {},
            "outputs": [
                {
                    "ename": "KeyError",
                    "evalue": "'groups'",
                    "output_type": "error",
                    "traceback": [
                        "\u001b[0;31m---------------------------------------------------------------------------\u001b[0m",
                        "\u001b[0;31mKeyError\u001b[0m                                  Traceback (most recent call last)",
                        "\u001b[0;32m<ipython-input-10-8de2f6d99739>\u001b[0m in \u001b[0;36m<module>\u001b[0;34m\u001b[0m\n\u001b[1;32m      1\u001b[0m \u001b[0;31m#creating json file with wanted content\u001b[0m\u001b[0;34m\u001b[0m\u001b[0;34m\u001b[0m\u001b[0;34m\u001b[0m\u001b[0m\n\u001b[1;32m      2\u001b[0m \u001b[0mquery1\u001b[0m \u001b[0;34m=\u001b[0m \u001b[0;34m'restaurant'\u001b[0m\u001b[0;34m\u001b[0m\u001b[0;34m\u001b[0m\u001b[0m\n\u001b[0;32m----> 3\u001b[0;31m \u001b[0mrestaurants\u001b[0m \u001b[0;34m=\u001b[0m \u001b[0mSearchVenues\u001b[0m\u001b[0;34m(\u001b[0m\u001b[0mquery1\u001b[0m\u001b[0;34m)\u001b[0m\u001b[0;34m\u001b[0m\u001b[0;34m\u001b[0m\u001b[0m\n\u001b[0m\u001b[1;32m      4\u001b[0m \u001b[0mrestaurants\u001b[0m\u001b[0;34m\u001b[0m\u001b[0;34m\u001b[0m\u001b[0m\n",
                        "\u001b[0;32m<ipython-input-9-3433bab154e3>\u001b[0m in \u001b[0;36mSearchVenues\u001b[0;34m(query)\u001b[0m\n\u001b[1;32m     21\u001b[0m             \u001b[0mLimit\u001b[0m\u001b[0;34m,\u001b[0m\u001b[0;34m\u001b[0m\u001b[0;34m\u001b[0m\u001b[0m\n\u001b[1;32m     22\u001b[0m             query)\n\u001b[0;32m---> 23\u001b[0;31m         \u001b[0mresults\u001b[0m \u001b[0;34m=\u001b[0m \u001b[0mrequests\u001b[0m\u001b[0;34m.\u001b[0m\u001b[0mget\u001b[0m\u001b[0;34m(\u001b[0m\u001b[0murl\u001b[0m\u001b[0;34m)\u001b[0m\u001b[0;34m.\u001b[0m\u001b[0mjson\u001b[0m\u001b[0;34m(\u001b[0m\u001b[0;34m)\u001b[0m\u001b[0;34m[\u001b[0m\u001b[0;34m'response'\u001b[0m\u001b[0;34m]\u001b[0m\u001b[0;34m[\u001b[0m\u001b[0;34m'groups'\u001b[0m\u001b[0;34m]\u001b[0m\u001b[0;34m[\u001b[0m\u001b[0;36m0\u001b[0m\u001b[0;34m]\u001b[0m\u001b[0;34m[\u001b[0m\u001b[0;34m'items'\u001b[0m\u001b[0;34m]\u001b[0m\u001b[0;34m\u001b[0m\u001b[0;34m\u001b[0m\u001b[0m\n\u001b[0m\u001b[1;32m     24\u001b[0m \u001b[0;34m\u001b[0m\u001b[0m\n\u001b[1;32m     25\u001b[0m         search_results.append([(\n",
                        "\u001b[0;31mKeyError\u001b[0m: 'groups'"
                    ]
                }
            ],
            "source": "#creating json file with wanted content\nquery1 = 'restaurant'\nrestaurants = SearchVenues(query1)\nrestaurants"
        },
        {
            "cell_type": "code",
            "execution_count": 11,
            "metadata": {},
            "outputs": [
                {
                    "ename": "KeyError",
                    "evalue": "'groups'",
                    "output_type": "error",
                    "traceback": [
                        "\u001b[0;31m---------------------------------------------------------------------------\u001b[0m",
                        "\u001b[0;31mKeyError\u001b[0m                                  Traceback (most recent call last)",
                        "\u001b[0;32m<ipython-input-11-772c6ec78327>\u001b[0m in \u001b[0;36m<module>\u001b[0;34m\u001b[0m\n\u001b[1;32m      1\u001b[0m \u001b[0mquery2\u001b[0m \u001b[0;34m=\u001b[0m \u001b[0;34m'drinks'\u001b[0m\u001b[0;34m\u001b[0m\u001b[0;34m\u001b[0m\u001b[0m\n\u001b[0;32m----> 2\u001b[0;31m \u001b[0mbars\u001b[0m \u001b[0;34m=\u001b[0m \u001b[0mSearchVenues\u001b[0m\u001b[0;34m(\u001b[0m\u001b[0mquery2\u001b[0m\u001b[0;34m)\u001b[0m\u001b[0;34m\u001b[0m\u001b[0;34m\u001b[0m\u001b[0m\n\u001b[0m\u001b[1;32m      3\u001b[0m \u001b[0mquery3\u001b[0m \u001b[0;34m=\u001b[0m \u001b[0;34m'train station'\u001b[0m\u001b[0;34m\u001b[0m\u001b[0;34m\u001b[0m\u001b[0m\n\u001b[1;32m      4\u001b[0m \u001b[0mtrain\u001b[0m \u001b[0;34m=\u001b[0m \u001b[0mSearchVenues\u001b[0m\u001b[0;34m(\u001b[0m\u001b[0mquery3\u001b[0m\u001b[0;34m)\u001b[0m\u001b[0;34m\u001b[0m\u001b[0;34m\u001b[0m\u001b[0m\n\u001b[1;32m      5\u001b[0m \u001b[0mquery4\u001b[0m \u001b[0;34m=\u001b[0m \u001b[0;34m'tram station'\u001b[0m\u001b[0;34m\u001b[0m\u001b[0;34m\u001b[0m\u001b[0m\n",
                        "\u001b[0;32m<ipython-input-9-3433bab154e3>\u001b[0m in \u001b[0;36mSearchVenues\u001b[0;34m(query)\u001b[0m\n\u001b[1;32m     21\u001b[0m             \u001b[0mLimit\u001b[0m\u001b[0;34m,\u001b[0m\u001b[0;34m\u001b[0m\u001b[0;34m\u001b[0m\u001b[0m\n\u001b[1;32m     22\u001b[0m             query)\n\u001b[0;32m---> 23\u001b[0;31m         \u001b[0mresults\u001b[0m \u001b[0;34m=\u001b[0m \u001b[0mrequests\u001b[0m\u001b[0;34m.\u001b[0m\u001b[0mget\u001b[0m\u001b[0;34m(\u001b[0m\u001b[0murl\u001b[0m\u001b[0;34m)\u001b[0m\u001b[0;34m.\u001b[0m\u001b[0mjson\u001b[0m\u001b[0;34m(\u001b[0m\u001b[0;34m)\u001b[0m\u001b[0;34m[\u001b[0m\u001b[0;34m'response'\u001b[0m\u001b[0;34m]\u001b[0m\u001b[0;34m[\u001b[0m\u001b[0;34m'groups'\u001b[0m\u001b[0;34m]\u001b[0m\u001b[0;34m[\u001b[0m\u001b[0;36m0\u001b[0m\u001b[0;34m]\u001b[0m\u001b[0;34m[\u001b[0m\u001b[0;34m'items'\u001b[0m\u001b[0;34m]\u001b[0m\u001b[0;34m\u001b[0m\u001b[0;34m\u001b[0m\u001b[0m\n\u001b[0m\u001b[1;32m     24\u001b[0m \u001b[0;34m\u001b[0m\u001b[0m\n\u001b[1;32m     25\u001b[0m         search_results.append([(\n",
                        "\u001b[0;31mKeyError\u001b[0m: 'groups'"
                    ]
                }
            ],
            "source": "query2 = 'drinks'\nbars = SearchVenues(query2)\nquery3 = 'train station'\ntrain = SearchVenues(query3)\nquery4 = 'tram station'\ntram = SearchVenues(query5)\nquery5 = 'bus station'\nbus = SearchVenues(query5)"
        },
        {
            "cell_type": "code",
            "execution_count": 12,
            "metadata": {},
            "outputs": [
                {
                    "ename": "NameError",
                    "evalue": "name 'bars' is not defined",
                    "output_type": "error",
                    "traceback": [
                        "\u001b[0;31m---------------------------------------------------------------------------\u001b[0m",
                        "\u001b[0;31mNameError\u001b[0m                                 Traceback (most recent call last)",
                        "\u001b[0;32m<ipython-input-12-76f3043ffc8e>\u001b[0m in \u001b[0;36m<module>\u001b[0;34m\u001b[0m\n\u001b[1;32m      1\u001b[0m \u001b[0mdf_rest\u001b[0m \u001b[0;34m=\u001b[0m \u001b[0mpd\u001b[0m\u001b[0;34m.\u001b[0m\u001b[0mDataFrame\u001b[0m\u001b[0;34m(\u001b[0m\u001b[0mitem\u001b[0m \u001b[0;32mfor\u001b[0m \u001b[0mvenue_list\u001b[0m \u001b[0;32min\u001b[0m \u001b[0mrestaurants\u001b[0m \u001b[0;32mfor\u001b[0m \u001b[0mitem\u001b[0m \u001b[0;32min\u001b[0m \u001b[0mvenue_list\u001b[0m\u001b[0;34m)\u001b[0m\u001b[0;34m\u001b[0m\u001b[0;34m\u001b[0m\u001b[0m\n\u001b[0;32m----> 2\u001b[0;31m \u001b[0mdf_bars\u001b[0m \u001b[0;34m=\u001b[0m \u001b[0mpd\u001b[0m\u001b[0;34m.\u001b[0m\u001b[0mDataFrame\u001b[0m\u001b[0;34m(\u001b[0m\u001b[0mitem\u001b[0m \u001b[0;32mfor\u001b[0m \u001b[0mvenue_list\u001b[0m \u001b[0;32min\u001b[0m \u001b[0mbars\u001b[0m \u001b[0;32mfor\u001b[0m \u001b[0mitem\u001b[0m \u001b[0;32min\u001b[0m \u001b[0mvenue_list\u001b[0m\u001b[0;34m)\u001b[0m\u001b[0;34m\u001b[0m\u001b[0;34m\u001b[0m\u001b[0m\n\u001b[0m\u001b[1;32m      3\u001b[0m \u001b[0mdf_trai\u001b[0m \u001b[0;34m=\u001b[0m \u001b[0mpd\u001b[0m\u001b[0;34m.\u001b[0m\u001b[0mDataFrame\u001b[0m\u001b[0;34m(\u001b[0m\u001b[0mitem\u001b[0m \u001b[0;32mfor\u001b[0m \u001b[0mvenue_list\u001b[0m \u001b[0;32min\u001b[0m \u001b[0mtrain\u001b[0m \u001b[0;32mfor\u001b[0m \u001b[0mitem\u001b[0m \u001b[0;32min\u001b[0m \u001b[0mvenue_list\u001b[0m\u001b[0;34m)\u001b[0m\u001b[0;34m\u001b[0m\u001b[0;34m\u001b[0m\u001b[0m\n\u001b[1;32m      4\u001b[0m \u001b[0mdf_tram\u001b[0m \u001b[0;34m=\u001b[0m \u001b[0mpd\u001b[0m\u001b[0;34m.\u001b[0m\u001b[0mDataFrame\u001b[0m\u001b[0;34m(\u001b[0m\u001b[0mitem\u001b[0m \u001b[0;32mfor\u001b[0m \u001b[0mvenue_list\u001b[0m \u001b[0;32min\u001b[0m \u001b[0mtram\u001b[0m \u001b[0;32mfor\u001b[0m \u001b[0mitem\u001b[0m \u001b[0;32min\u001b[0m \u001b[0mvenue_list\u001b[0m\u001b[0;34m)\u001b[0m\u001b[0;34m\u001b[0m\u001b[0;34m\u001b[0m\u001b[0m\n\u001b[1;32m      5\u001b[0m \u001b[0mdf_bus\u001b[0m \u001b[0;34m=\u001b[0m \u001b[0mpd\u001b[0m\u001b[0;34m.\u001b[0m\u001b[0mDataFrame\u001b[0m\u001b[0;34m(\u001b[0m\u001b[0mitem\u001b[0m \u001b[0;32mfor\u001b[0m \u001b[0mvenue_list\u001b[0m \u001b[0;32min\u001b[0m \u001b[0mbus\u001b[0m \u001b[0;32mfor\u001b[0m \u001b[0mitem\u001b[0m \u001b[0;32min\u001b[0m \u001b[0mvenue_list\u001b[0m\u001b[0;34m)\u001b[0m\u001b[0;34m\u001b[0m\u001b[0;34m\u001b[0m\u001b[0m\n",
                        "\u001b[0;31mNameError\u001b[0m: name 'bars' is not defined"
                    ]
                }
            ],
            "source": "df_rest = pd.DataFrame(item for venue_list in restaurants for item in venue_list)\ndf_bars = pd.DataFrame(item for venue_list in bars for item in venue_list)\ndf_trai = pd.DataFrame(item for venue_list in train for item in venue_list)\ndf_tram = pd.DataFrame(item for venue_list in tram for item in venue_list)\ndf_bus = pd.DataFrame(item for venue_list in bus for item in venue_list)\ndf_bars.head(5)"
        },
        {
            "cell_type": "code",
            "execution_count": null,
            "metadata": {},
            "outputs": [],
            "source": "#combining all public tranpsort location to single dataframe\ndf_transport = df_trai.append(df_tram)\ndf_transport = df_transport.append(df_bus)\n\n#edit column titles\ndf_rest.columns = ('Name', 'Lat', 'Lng')\ndf_bars.columns = ('Name', 'Lat', 'Lng')\ndf_transport.column = ('Name', 'Lat', 'Lng')\ndt_transport.reset_index\n\ndf_rest.head(5)"
        },
        {
            "cell_type": "code",
            "execution_count": null,
            "metadata": {},
            "outputs": [],
            "source": "#view shape\nprint(df_rest.shape)\nprint(df_bars.shape)\nprint(df_transport.shape)"
        },
        {
            "cell_type": "code",
            "execution_count": null,
            "metadata": {},
            "outputs": [],
            "source": "#setting up k-means\ndef kmeanslabels(df):\n    k_means = KMeans(init=\"k-means++\", n_clusters=12, n_init=30)\n    k_means.fit(df[['Lat','Lng']])\n    k_means_labels = k_means.labels_\n    return k_means_labels\n\ndef kmeanscenters(df):\n    k_means = KMeans(init=\"k-means++\", n_clusters=12, n_init=30)\n    k_means.fit(df[['Lat','Lng']])\n    k_means_cluster_centers = k_means.cluster_centers_\n    return k_meansR_cluster_centers"
        },
        {
            "cell_type": "code",
            "execution_count": null,
            "metadata": {},
            "outputs": [],
            "source": "#Create k-means data for all three data sets\nRestL = kmeanslabels(df_rest)\nRC = kmeanscenters(df_rest)\nBarL = kmeanslabels(df_bars)\nBC = kmeanscenters(df_bars)\nTransportL = kmeanslabels(df_transport)\nTC = kmeanscenters(df_transport)"
        },
        {
            "cell_type": "code",
            "execution_count": null,
            "metadata": {},
            "outputs": [],
            "source": "#append kmeans cluster number to dafa frame for easy colouring\ndf_rest['Cluster Nr.'] = RestL\ndf_bars['Cluster Nr.'] = BarL\ndf_transport['Cluster Nr.'] = TransportL"
        },
        {
            "cell_type": "code",
            "execution_count": null,
            "metadata": {},
            "outputs": [],
            "source": "#create data frames for density centers\nRestC = pd.DataFrame(RC)\nBarC = pd.DataFrame(BC)\nTransC = pd.DataFrame(TC)"
        },
        {
            "cell_type": "code",
            "execution_count": null,
            "metadata": {},
            "outputs": [],
            "source": "#plotting map\naddress = 'Zuerich'\ngeolocator = Nominatim(user_agent=\"zuerich_explorer\")\nlocation = geolocator.geocode(address)\nlatitude = location.latitude\nlongitude = location.longitude\n\n#setting cluster number as 6\nk=12\n\n\ndef CreateMapK(df):\n    # create map\n    MyMap = folium.Map(location=[latitude, longitude], zoom_start=11)\n    \n    # setting color scheme for the clusters (R)\n    X = np.arange(k)\n    Ys = [i + X + (i*X)**2 for i in range(k)]\n    colors_array = cm.rainbow(np.linspace(0, 1, len(Ys)))\n    rainbow = [colors.rgb2hex(i) for i in colors_array]\n\n    # adding markers to the map (R)\n    markers_colors = []\n    for lat, lng, counter in zip(df['Lat'], df['Lng'], df['Cluster Nr.']):\n        label = folium.Popup(str(df['Cluster Nr.']) + ' Cluster ' + str(counter), parse_html=True)\n        folium.CircleMarker(\n            [lat, lng],\n            radius=5,\n            popup=label,\n            color=rainbow[counter-1],\n            fill=True,\n            fill_color=rainbow[counter-1],\n            fill_opacity=0.7).add_to(MyMap)\n    \n    return MyMap"
        },
        {
            "cell_type": "code",
            "execution_count": null,
            "metadata": {},
            "outputs": [],
            "source": "#Creating map for seperate clusters\nMapRest = CreateMapK(df_rest)\nMapBar = CreateMapK(df_bars)\nMapTrans = CreateMapK(df_transport)"
        },
        {
            "cell_type": "code",
            "execution_count": null,
            "metadata": {},
            "outputs": [],
            "source": "MapRest"
        },
        {
            "cell_type": "code",
            "execution_count": null,
            "metadata": {},
            "outputs": [],
            "source": "MapBar"
        },
        {
            "cell_type": "code",
            "execution_count": null,
            "metadata": {},
            "outputs": [],
            "source": "MapTrans"
        },
        {
            "cell_type": "code",
            "execution_count": null,
            "metadata": {},
            "outputs": [],
            "source": "#simple maps of density centers\ndef CreateMap(df):\n    # create map\n    MyMap = folium.Map(location=[latitude, longitude], zoom_start=11)\n    \n    # adding markers to the map (R)\n    markers_colors = []\n    for lat, lng, counter in zip(df['Lat'], df['Lng']):\n        folium.CircleMarker(\n            [lat, lng],\n            radius=5,\n            popup=label,\n            color=rainbow,\n            fill=True,\n            fill_color=rainbow,\n            fill_opacity=0.7).add_to(MyMap)\n    \n    return MyMap"
        },
        {
            "cell_type": "code",
            "execution_count": null,
            "metadata": {},
            "outputs": [],
            "source": "MapRestC = CreateMap(df_rest)\nMapBarC = CreateMap(df_bars)\nMapTransC = CreateMap(df_transport)"
        },
        {
            "cell_type": "code",
            "execution_count": null,
            "metadata": {},
            "outputs": [],
            "source": ""
        },
        {
            "cell_type": "code",
            "execution_count": null,
            "metadata": {},
            "outputs": [],
            "source": ""
        },
        {
            "cell_type": "code",
            "execution_count": null,
            "metadata": {},
            "outputs": [],
            "source": ""
        }
    ],
    "metadata": {
        "kernelspec": {
            "display_name": "Python 3.7",
            "language": "python",
            "name": "python3"
        },
        "language_info": {
            "codemirror_mode": {
                "name": "ipython",
                "version": 3
            },
            "file_extension": ".py",
            "mimetype": "text/x-python",
            "name": "python",
            "nbconvert_exporter": "python",
            "pygments_lexer": "ipython3",
            "version": "3.7.10"
        }
    },
    "nbformat": 4,
    "nbformat_minor": 1
}