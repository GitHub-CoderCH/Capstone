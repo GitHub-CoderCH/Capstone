{
    "cells": [
        {
            "cell_type": "markdown",
            "metadata": {
                "collapsed": true
            },
            "source": "# Where to open the most popular Cocktail bar in town?"
        },
        {
            "cell_type": "markdown",
            "metadata": {},
            "source": "<b>Introduction</b>\n\nIn the gastro environment bars of all sorts play a major role. From a simple pub serving beer and maybe some food to exclusive cocktail bars the array and style is unique to every venue. While the venue itself is of great importance to maintaining a solid customers basis, finding new customers can be greatly influenced by the location and neighborhood.\n\nThis study focuses on a regional study within Z\u00fcrich to open a cocktail bar. No food will be served. While the venue wants to capture a high number of high-end customers who will travel to the bar specifically, the goal is to grow their customer base based on location. Essentially making it more accessible and favorable to a broader audience. All business aspects like pricing and products on offer are neglected, focusing solely on the most favorable location to supplement the venue while still making it a standout establishment.\n\nWhen considering the surroundings of the bar there are many factors to consider:\n- Proximity to an array of restaurants\n- Reduced competition in the region\n- Accessibility by foot (close to office buildings)\n- Accessibilty by public transport\n- Cost of location\n- Upscale feeling of location\n\nMany of these points can be considered vital when choosing a venue. For the purpose of this study only influences by foreign infrastructures will be considered. Hence public transport and restaurants are considered a bonus to any location while rival bars might reduce the revenue of the selected venue.\n\n\n\n<b>Methods</b>\n\nUsing the Foursquare API the locations of restaurants, bars, train-, tram stations and bus stops were selected. Z\u00fcrich is made up of 12 district hence 12 clusters of restaurants, public transport and rival bars were created. The clusters center would serve as the most favourable or least favourable location. Based on the data it might be possible to view regions most fruitful to open the cocktail bar at. Optimally regions with high densities of restaurants and public tranpsort and low densities of bars would be recorded. To also view the accessiblity for an after work drink public transport point (train, tram and bus stations) were clustered.\n\nResults\n\nFrom the data displayed on the map it is difficult to find a stand out spot with high densities of restaurants without a number of bars in the same area. Nevertheless some centers maked in the map above centering around clusters of restaurants, have lower bars in their vicinity suggesting lower local competition. These places might make a great place to open thhe planned establishment.\n\nDiscussion\n\nThis result is not surprising maily due to the fact that the market regulates its self and therefore already controlles supply and demand. Additionaly the number of venues selected with the free account limit the accuary of this experiment.\n\nConlusion\n\nWhile it was educational to display the regional trends through out the city the obtained data is most likey not significant enough to warrant an informed desicion. For a more accurate picture a larger data set with more detailed differation between restaurants and bars to more accuretly cater towards the target group might be of use.\n\nReferences\n\nAll of the \"IBM Data Science\"-course material on the coursera website as well as the labs within the course.\n\nAcknowledgements\n\nThe IBM-Help staff throughout the entire course who helped during many individual issues.\n\n"
        },
        {
            "cell_type": "code",
            "execution_count": null,
            "metadata": {},
            "outputs": [],
            "source": ""
        }
    ],
    "metadata": {
        "kernelspec": {
            "display_name": "Python 3.7",
            "language": "python",
            "name": "python3"
        },
        "language_info": {
            "codemirror_mode": {
                "name": "ipython",
                "version": 3
            },
            "file_extension": ".py",
            "mimetype": "text/x-python",
            "name": "python",
            "nbconvert_exporter": "python",
            "pygments_lexer": "ipython3",
            "version": "3.7.10"
        }
    },
    "nbformat": 4,
    "nbformat_minor": 1
}