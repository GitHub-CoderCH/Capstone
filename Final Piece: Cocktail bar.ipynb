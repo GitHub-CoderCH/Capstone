{
    "cells": [
        {
            "cell_type": "markdown",
            "metadata": {},
            "source": "# Where to open the most popular Cocktail bar in town?"
        },
        {
            "cell_type": "markdown",
            "metadata": {},
            "source": "In the gastro environment bars of all sorts play a major role. From a simple pub serving beer and maybe some food to exclusive cocktail bars the array and style is unique to every venue. While the venue itself is of great importance to maintaining a solid customers basis, finding new customers can be greatly influenced by the location and neighborhood.\n\nThis study focuses on a regional study within Z\u00fcrich to open a cocktail bar. No food will be served. While the venue wants to capture a high number of high-end customers who will travel to the bar specifically, the goal is to grow their customer base based on location. Essentially making it more accessible and favorable to a broader audience. All business aspects like pricing and products on offer are neglected, focusing solely on the most favorable location to supplement the venue while still making it a standout establishment.\n\nAs the bar will not serve any food and be a unique venue for one or two drinks in the afternoon/evening following informations were taken into consideration:\n- Proximity to an array of restaurants\n- Proximity to large working places where people will quickly move from when done with work\n- Reduced competition in the region\n\nTo do this 6 clusters of restaurants, rival bars and large firms were created. Based on the data it might be possible to view regions most fruitful to open the cocktail bar at."
        },
        {
            "cell_type": "code",
            "execution_count": null,
            "metadata": {},
            "outputs": [],
            "source": ""
        }
    ],
    "metadata": {
        "kernelspec": {
            "display_name": "Python 3.7",
            "language": "python",
            "name": "python3"
        },
        "language_info": {
            "codemirror_mode": {
                "name": "ipython",
                "version": 3
            },
            "file_extension": ".py",
            "mimetype": "text/x-python",
            "name": "python",
            "nbconvert_exporter": "python",
            "pygments_lexer": "ipython3",
            "version": "3.7.10"
        }
    },
    "nbformat": 4,
    "nbformat_minor": 1
}